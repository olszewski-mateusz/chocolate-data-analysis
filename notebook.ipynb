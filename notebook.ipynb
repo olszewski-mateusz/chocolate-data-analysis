{
 "cells": [
  {
   "cell_type": "markdown",
   "id": "25ec4758",
   "metadata": {},
   "source": [
    "### Autor: Mateusz Olszewski, nr 145247"
   ]
  },
  {
   "cell_type": "markdown",
   "id": "sufficient-addition",
   "metadata": {},
   "source": [
    "# Zbiór danych:\n",
    "\n",
    "Zbiór danych został pobrany ze strony: https://www.kaggle.com/rtatman/chocolate-bar-ratings. Jego autorem jest Brady Brelinski - założyciel the Manhattan Chocolate Society. Baza zawiera informacje o ocenach ponad 1700 tabliczek czekolady. Autor podczas jej tworzenia skupiał się przede wszystkim na gorzkich czekoladach. Przy ocenie brane są pod uwagę tylko i wyłącznie walory smakowe - nie jest uwzględniony np. wpływ zdrowotny. Jej zakres wynosi od 1 do 5 i ma następujące znaczenie:\n",
    "\n",
    "- 5 - elitarna (smak przekracza standardowe limity)\n",
    "- 4 - premium (doskonały rozwój smaku, charakteru i stylu)\n",
    "- 3 - zadowalająca (godna pochwały)\n",
    "- 2 - rozczarowująca (zawiera co najmniej jedną istotną wadę)\n",
    "- 1 - nieprzyjemna (w większości niesmacza)\n",
    "\n",
    "W bazie występują następujące kolumny:\n",
    "\n",
    "- Company (Maker-if known) - nazwa producenta\n",
    "- Specific Bean Origin or Bar Name - region pochodzenia czekolady\n",
    "- REF - wartość powiązana z czasem dodania do bazy (im więcej tym wcześniej dodana ocena)\n",
    "- ReviewDate - rok publikacji recenzji\n",
    "- CocoaPercent - zawartość kakao w %\n",
    "- CompanyLocation - kraj pochodzenia producenta\n",
    "- Rating - ocena czekolady\n",
    "- BeanType - rodzaj ziaren kakaowca\n",
    "- Broad Bean Origin - pochodzenie ziaren kakaowca"
   ]
  },
  {
   "cell_type": "markdown",
   "id": "promising-chorus",
   "metadata": {},
   "source": [
    "# 1) Analiza eksploracyjna"
   ]
  },
  {
   "cell_type": "markdown",
   "id": "conservative-monday",
   "metadata": {},
   "source": [
    "## 1.1) Wczytanie bibliotek"
   ]
  },
  {
   "cell_type": "code",
   "execution_count": 2,
   "id": "every-consultation",
   "metadata": {
    "scrolled": true
   },
   "outputs": [],
   "source": [
    "suppressMessages({\n",
    "    library(ggplot2)\n",
    "    library(ggExtra)\n",
    "    library(gridExtra)\n",
    "    library(forcats)\n",
    "    library(tidyverse)\n",
    "}) "
   ]
  },
  {
   "cell_type": "markdown",
   "id": "d789badc",
   "metadata": {},
   "source": [
    "Pierwszym krokiem jest wczytanie bibliotek (wymagane są m.in. do rysowania wykresów)."
   ]
  },
  {
   "cell_type": "markdown",
   "id": "57040725",
   "metadata": {},
   "source": [
    "## 1.2) Przegląd danych"
   ]
  },
  {
   "cell_type": "code",
   "execution_count": 3,
   "id": "e0c5cc6b",
   "metadata": {},
   "outputs": [
    {
     "data": {
      "text/plain": [
       " CompanyÂ...Maker.if.known.   Specific.Bean.Origin.or.Bar.Name      REF      \n",
       " Soma    :  47              Madagascar        :  57            Min.   :   5  \n",
       " Bonnat  :  27              Peru              :  45            1st Qu.: 576  \n",
       " Fresco  :  26              Ecuador           :  42            Median :1069  \n",
       " Pralus  :  25              Dominican Republic:  37            Mean   :1036  \n",
       " A. Morin:  23              Venezuela         :  21            3rd Qu.:1502  \n",
       " Arete   :  22              Chuao             :  19            Max.   :1952  \n",
       " (Other) :1625              (Other)           :1574                          \n",
       "  Review.Date   Cocoa.Percent Company.Location     Rating     \n",
       " Min.   :2006   70%    :672   U.S.A. :764      Min.   :1.000  \n",
       " 1st Qu.:2010   75%    :222   France :156      1st Qu.:2.875  \n",
       " Median :2013   72%    :189   Canada :125      Median :3.250  \n",
       " Mean   :2012   65%    : 78   U.K.   : 96      Mean   :3.186  \n",
       " 3rd Qu.:2015   80%    : 72   Italy  : 63      3rd Qu.:3.500  \n",
       " Max.   :2017   74%    : 50   Ecuador: 54      Max.   :5.000  \n",
       "                (Other):512   (Other):537                     \n",
       "                Bean.Type            Broad.Bean.Origin\n",
       " Â                   :887   Venezuela         :214    \n",
       " Trinitario          :419   Ecuador           :193    \n",
       " Criollo             :153   Peru              :165    \n",
       " Forastero           : 87   Madagascar        :145    \n",
       " Forastero (Nacional): 52   Dominican Republic:141    \n",
       " Blend               : 41   Â                 : 73    \n",
       " (Other)             :156   (Other)           :864    "
      ]
     },
     "metadata": {},
     "output_type": "display_data"
    },
    {
     "data": {
      "text/html": [
       "<table>\n",
       "<thead><tr><th scope=col>CompanyÂ...Maker.if.known.</th><th scope=col>Specific.Bean.Origin.or.Bar.Name</th><th scope=col>REF</th><th scope=col>Review.Date</th><th scope=col>Cocoa.Percent</th><th scope=col>Company.Location</th><th scope=col>Rating</th><th scope=col>Bean.Type</th><th scope=col>Broad.Bean.Origin</th></tr></thead>\n",
       "<tbody>\n",
       "\t<tr><td>A. Morin   </td><td>Agua Grande</td><td>1876       </td><td>2016       </td><td>63%        </td><td>France     </td><td>3.75       </td><td>Â          </td><td>Sao Tome   </td></tr>\n",
       "\t<tr><td>A. Morin   </td><td>Kpime      </td><td>1676       </td><td>2015       </td><td>70%        </td><td>France     </td><td>2.75       </td><td>Â          </td><td>Togo       </td></tr>\n",
       "\t<tr><td>A. Morin   </td><td>Atsane     </td><td>1676       </td><td>2015       </td><td>70%        </td><td>France     </td><td>3.00       </td><td>Â          </td><td>Togo       </td></tr>\n",
       "\t<tr><td>A. Morin   </td><td>Akata      </td><td>1680       </td><td>2015       </td><td>70%        </td><td>France     </td><td>3.50       </td><td>Â          </td><td>Togo       </td></tr>\n",
       "\t<tr><td>A. Morin   </td><td>Quilla     </td><td>1704       </td><td>2015       </td><td>70%        </td><td>France     </td><td>3.50       </td><td>Â          </td><td>Peru       </td></tr>\n",
       "</tbody>\n",
       "</table>\n"
      ],
      "text/latex": [
       "\\begin{tabular}{r|lllllllll}\n",
       " CompanyÂ...Maker.if.known. & Specific.Bean.Origin.or.Bar.Name & REF & Review.Date & Cocoa.Percent & Company.Location & Rating & Bean.Type & Broad.Bean.Origin\\\\\n",
       "\\hline\n",
       "\t A. Morin    & Agua Grande & 1876        & 2016        & 63\\%       & France      & 3.75        & Â           & Sao Tome   \\\\\n",
       "\t A. Morin    & Kpime       & 1676        & 2015        & 70\\%       & France      & 2.75        & Â           & Togo       \\\\\n",
       "\t A. Morin    & Atsane      & 1676        & 2015        & 70\\%       & France      & 3.00        & Â           & Togo       \\\\\n",
       "\t A. Morin    & Akata       & 1680        & 2015        & 70\\%       & France      & 3.50        & Â           & Togo       \\\\\n",
       "\t A. Morin    & Quilla      & 1704        & 2015        & 70\\%       & France      & 3.50        & Â           & Peru       \\\\\n",
       "\\end{tabular}\n"
      ],
      "text/markdown": [
       "\n",
       "| CompanyÂ...Maker.if.known. | Specific.Bean.Origin.or.Bar.Name | REF | Review.Date | Cocoa.Percent | Company.Location | Rating | Bean.Type | Broad.Bean.Origin |\n",
       "|---|---|---|---|---|---|---|---|---|\n",
       "| A. Morin    | Agua Grande | 1876        | 2016        | 63%         | France      | 3.75        | Â           | Sao Tome    |\n",
       "| A. Morin    | Kpime       | 1676        | 2015        | 70%         | France      | 2.75        | Â           | Togo        |\n",
       "| A. Morin    | Atsane      | 1676        | 2015        | 70%         | France      | 3.00        | Â           | Togo        |\n",
       "| A. Morin    | Akata       | 1680        | 2015        | 70%         | France      | 3.50        | Â           | Togo        |\n",
       "| A. Morin    | Quilla      | 1704        | 2015        | 70%         | France      | 3.50        | Â           | Peru        |\n",
       "\n"
      ],
      "text/plain": [
       "  CompanyÂ...Maker.if.known. Specific.Bean.Origin.or.Bar.Name REF  Review.Date\n",
       "1 A. Morin                   Agua Grande                      1876 2016       \n",
       "2 A. Morin                   Kpime                            1676 2015       \n",
       "3 A. Morin                   Atsane                           1676 2015       \n",
       "4 A. Morin                   Akata                            1680 2015       \n",
       "5 A. Morin                   Quilla                           1704 2015       \n",
       "  Cocoa.Percent Company.Location Rating Bean.Type Broad.Bean.Origin\n",
       "1 63%           France           3.75   Â         Sao Tome         \n",
       "2 70%           France           2.75   Â         Togo             \n",
       "3 70%           France           3.00   Â         Togo             \n",
       "4 70%           France           3.50   Â         Togo             \n",
       "5 70%           France           3.50   Â         Peru             "
      ]
     },
     "metadata": {},
     "output_type": "display_data"
    },
    {
     "data": {
      "text/html": [
       "<table>\n",
       "<thead><tr><th></th><th scope=col>CompanyÂ...Maker.if.known.</th><th scope=col>Specific.Bean.Origin.or.Bar.Name</th><th scope=col>REF</th><th scope=col>Review.Date</th><th scope=col>Cocoa.Percent</th><th scope=col>Company.Location</th><th scope=col>Rating</th><th scope=col>Bean.Type</th><th scope=col>Broad.Bean.Origin</th></tr></thead>\n",
       "<tbody>\n",
       "\t<tr><th scope=row>1791</th><td>Zotter            </td><td>Peru              </td><td>647               </td><td>2011              </td><td>70%               </td><td>Austria           </td><td>3.75              </td><td>Â                 </td><td>Peru              </td></tr>\n",
       "\t<tr><th scope=row>1792</th><td>Zotter            </td><td>Congo             </td><td>749               </td><td>2011              </td><td>65%               </td><td>Austria           </td><td>3.00              </td><td>Forastero         </td><td>Congo             </td></tr>\n",
       "\t<tr><th scope=row>1793</th><td>Zotter            </td><td>Kerala State      </td><td>749               </td><td>2011              </td><td>65%               </td><td>Austria           </td><td>3.50              </td><td>Forastero         </td><td>India             </td></tr>\n",
       "\t<tr><th scope=row>1794</th><td>Zotter            </td><td>Kerala State      </td><td>781               </td><td>2011              </td><td>62%               </td><td>Austria           </td><td>3.25              </td><td>Â                 </td><td>India             </td></tr>\n",
       "\t<tr><th scope=row>1795</th><td>Zotter            </td><td>Brazil, Mitzi Blue</td><td>486               </td><td>2010              </td><td>65%               </td><td>Austria           </td><td>3.00              </td><td>Â                 </td><td>Brazil            </td></tr>\n",
       "</tbody>\n",
       "</table>\n"
      ],
      "text/latex": [
       "\\begin{tabular}{r|lllllllll}\n",
       "  & CompanyÂ...Maker.if.known. & Specific.Bean.Origin.or.Bar.Name & REF & Review.Date & Cocoa.Percent & Company.Location & Rating & Bean.Type & Broad.Bean.Origin\\\\\n",
       "\\hline\n",
       "\t1791 & Zotter             & Peru               & 647                & 2011               & 70\\%              & Austria            & 3.75               & Â                  & Peru              \\\\\n",
       "\t1792 & Zotter             & Congo              & 749                & 2011               & 65\\%              & Austria            & 3.00               & Forastero          & Congo             \\\\\n",
       "\t1793 & Zotter             & Kerala State       & 749                & 2011               & 65\\%              & Austria            & 3.50               & Forastero          & India             \\\\\n",
       "\t1794 & Zotter             & Kerala State       & 781                & 2011               & 62\\%              & Austria            & 3.25               & Â                  & India             \\\\\n",
       "\t1795 & Zotter             & Brazil, Mitzi Blue & 486                & 2010               & 65\\%              & Austria            & 3.00               & Â                  & Brazil            \\\\\n",
       "\\end{tabular}\n"
      ],
      "text/markdown": [
       "\n",
       "| <!--/--> | CompanyÂ...Maker.if.known. | Specific.Bean.Origin.or.Bar.Name | REF | Review.Date | Cocoa.Percent | Company.Location | Rating | Bean.Type | Broad.Bean.Origin |\n",
       "|---|---|---|---|---|---|---|---|---|---|\n",
       "| 1791 | Zotter             | Peru               | 647                | 2011               | 70%                | Austria            | 3.75               | Â                  | Peru               |\n",
       "| 1792 | Zotter             | Congo              | 749                | 2011               | 65%                | Austria            | 3.00               | Forastero          | Congo              |\n",
       "| 1793 | Zotter             | Kerala State       | 749                | 2011               | 65%                | Austria            | 3.50               | Forastero          | India              |\n",
       "| 1794 | Zotter             | Kerala State       | 781                | 2011               | 62%                | Austria            | 3.25               | Â                  | India              |\n",
       "| 1795 | Zotter             | Brazil, Mitzi Blue | 486                | 2010               | 65%                | Austria            | 3.00               | Â                  | Brazil             |\n",
       "\n"
      ],
      "text/plain": [
       "     CompanyÂ...Maker.if.known. Specific.Bean.Origin.or.Bar.Name REF\n",
       "1791 Zotter                     Peru                             647\n",
       "1792 Zotter                     Congo                            749\n",
       "1793 Zotter                     Kerala State                     749\n",
       "1794 Zotter                     Kerala State                     781\n",
       "1795 Zotter                     Brazil, Mitzi Blue               486\n",
       "     Review.Date Cocoa.Percent Company.Location Rating Bean.Type\n",
       "1791 2011        70%           Austria          3.75   Â        \n",
       "1792 2011        65%           Austria          3.00   Forastero\n",
       "1793 2011        65%           Austria          3.50   Forastero\n",
       "1794 2011        62%           Austria          3.25   Â        \n",
       "1795 2010        65%           Austria          3.00   Â        \n",
       "     Broad.Bean.Origin\n",
       "1791 Peru             \n",
       "1792 Congo            \n",
       "1793 India            \n",
       "1794 India            \n",
       "1795 Brazil           "
      ]
     },
     "metadata": {},
     "output_type": "display_data"
    }
   ],
   "source": [
    "data <- read.csv(file = 'flavors_of_cacao.csv')\n",
    "summary(data)\n",
    "head(data, n=5)\n",
    "tail(data, n=5)"
   ]
  },
  {
   "cell_type": "markdown",
   "id": "1206eb32",
   "metadata": {},
   "source": [
    "Następnie sprawdzam jak wyglądają dane (czy są jakieś błędy). Zauważyłem, że w 2 ostatnich kolumnach pojawiają się wartości \"Â\", które powinny oznaczać wartość nieznaną. Innym problemem jest typ danych kolumny Cocoa.Percent:"
   ]
  },
  {
   "cell_type": "code",
   "execution_count": 4,
   "id": "fb09a069",
   "metadata": {},
   "outputs": [
    {
     "data": {
      "text/html": [
       "'factor'"
      ],
      "text/latex": [
       "'factor'"
      ],
      "text/markdown": [
       "'factor'"
      ],
      "text/plain": [
       "[1] \"factor\""
      ]
     },
     "metadata": {},
     "output_type": "display_data"
    }
   ],
   "source": [
    "class(data$Cocoa.Percent)"
   ]
  },
  {
   "cell_type": "markdown",
   "id": "65a8551d",
   "metadata": {},
   "source": [
    "Wygodniej dla dalszych obliczeń byłoby zamienienie jej na typ numeryczny."
   ]
  },
  {
   "cell_type": "markdown",
   "id": "07fb706b",
   "metadata": {},
   "source": [
    "## 1.3) Oczyszczenie danych"
   ]
  },
  {
   "cell_type": "code",
   "execution_count": 5,
   "id": "9dc49939",
   "metadata": {},
   "outputs": [
    {
     "data": {
      "text/html": [
       "<table>\n",
       "<thead><tr><th scope=col>Company</th><th scope=col>Specific_origin</th><th scope=col>REF</th><th scope=col>Review_date</th><th scope=col>Cocoa_percent</th><th scope=col>Company_location</th><th scope=col>Rating</th><th scope=col>Bean_type</th><th scope=col>Bean_origin</th></tr></thead>\n",
       "<tbody>\n",
       "\t<tr><td>A. Morin   </td><td>Agua Grande</td><td>1876       </td><td>2016       </td><td>0.63       </td><td>France     </td><td>3.75       </td><td>NA         </td><td>Sao Tome   </td></tr>\n",
       "\t<tr><td>A. Morin   </td><td>Kpime      </td><td>1676       </td><td>2015       </td><td>0.70       </td><td>France     </td><td>2.75       </td><td>NA         </td><td>Togo       </td></tr>\n",
       "\t<tr><td>A. Morin   </td><td>Atsane     </td><td>1676       </td><td>2015       </td><td>0.70       </td><td>France     </td><td>3.00       </td><td>NA         </td><td>Togo       </td></tr>\n",
       "\t<tr><td>A. Morin   </td><td>Akata      </td><td>1680       </td><td>2015       </td><td>0.70       </td><td>France     </td><td>3.50       </td><td>NA         </td><td>Togo       </td></tr>\n",
       "\t<tr><td>A. Morin   </td><td>Quilla     </td><td>1704       </td><td>2015       </td><td>0.70       </td><td>France     </td><td>3.50       </td><td>NA         </td><td>Peru       </td></tr>\n",
       "</tbody>\n",
       "</table>\n"
      ],
      "text/latex": [
       "\\begin{tabular}{r|lllllllll}\n",
       " Company & Specific\\_origin & REF & Review\\_date & Cocoa\\_percent & Company\\_location & Rating & Bean\\_type & Bean\\_origin\\\\\n",
       "\\hline\n",
       "\t A. Morin    & Agua Grande & 1876        & 2016        & 0.63        & France      & 3.75        & NA          & Sao Tome   \\\\\n",
       "\t A. Morin    & Kpime       & 1676        & 2015        & 0.70        & France      & 2.75        & NA          & Togo       \\\\\n",
       "\t A. Morin    & Atsane      & 1676        & 2015        & 0.70        & France      & 3.00        & NA          & Togo       \\\\\n",
       "\t A. Morin    & Akata       & 1680        & 2015        & 0.70        & France      & 3.50        & NA          & Togo       \\\\\n",
       "\t A. Morin    & Quilla      & 1704        & 2015        & 0.70        & France      & 3.50        & NA          & Peru       \\\\\n",
       "\\end{tabular}\n"
      ],
      "text/markdown": [
       "\n",
       "| Company | Specific_origin | REF | Review_date | Cocoa_percent | Company_location | Rating | Bean_type | Bean_origin |\n",
       "|---|---|---|---|---|---|---|---|---|\n",
       "| A. Morin    | Agua Grande | 1876        | 2016        | 0.63        | France      | 3.75        | NA          | Sao Tome    |\n",
       "| A. Morin    | Kpime       | 1676        | 2015        | 0.70        | France      | 2.75        | NA          | Togo        |\n",
       "| A. Morin    | Atsane      | 1676        | 2015        | 0.70        | France      | 3.00        | NA          | Togo        |\n",
       "| A. Morin    | Akata       | 1680        | 2015        | 0.70        | France      | 3.50        | NA          | Togo        |\n",
       "| A. Morin    | Quilla      | 1704        | 2015        | 0.70        | France      | 3.50        | NA          | Peru        |\n",
       "\n"
      ],
      "text/plain": [
       "  Company  Specific_origin REF  Review_date Cocoa_percent Company_location\n",
       "1 A. Morin Agua Grande     1876 2016        0.63          France          \n",
       "2 A. Morin Kpime           1676 2015        0.70          France          \n",
       "3 A. Morin Atsane          1676 2015        0.70          France          \n",
       "4 A. Morin Akata           1680 2015        0.70          France          \n",
       "5 A. Morin Quilla          1704 2015        0.70          France          \n",
       "  Rating Bean_type Bean_origin\n",
       "1 3.75   NA        Sao Tome   \n",
       "2 2.75   NA        Togo       \n",
       "3 3.00   NA        Togo       \n",
       "4 3.50   NA        Togo       \n",
       "5 3.50   NA        Peru       "
      ]
     },
     "metadata": {},
     "output_type": "display_data"
    },
    {
     "data": {
      "text/html": [
       "<table>\n",
       "<thead><tr><th></th><th scope=col>Company</th><th scope=col>Specific_origin</th><th scope=col>REF</th><th scope=col>Review_date</th><th scope=col>Cocoa_percent</th><th scope=col>Company_location</th><th scope=col>Rating</th><th scope=col>Bean_type</th><th scope=col>Bean_origin</th></tr></thead>\n",
       "<tbody>\n",
       "\t<tr><th scope=row>1791</th><td>Zotter            </td><td>Peru              </td><td>647               </td><td>2011              </td><td>0.70              </td><td>Austria           </td><td>3.75              </td><td>NA                </td><td>Peru              </td></tr>\n",
       "\t<tr><th scope=row>1792</th><td>Zotter            </td><td>Congo             </td><td>749               </td><td>2011              </td><td>0.65              </td><td>Austria           </td><td>3.00              </td><td>Forastero         </td><td>Congo             </td></tr>\n",
       "\t<tr><th scope=row>1793</th><td>Zotter            </td><td>Kerala State      </td><td>749               </td><td>2011              </td><td>0.65              </td><td>Austria           </td><td>3.50              </td><td>Forastero         </td><td>India             </td></tr>\n",
       "\t<tr><th scope=row>1794</th><td>Zotter            </td><td>Kerala State      </td><td>781               </td><td>2011              </td><td>0.62              </td><td>Austria           </td><td>3.25              </td><td>NA                </td><td>India             </td></tr>\n",
       "\t<tr><th scope=row>1795</th><td>Zotter            </td><td>Brazil, Mitzi Blue</td><td>486               </td><td>2010              </td><td>0.65              </td><td>Austria           </td><td>3.00              </td><td>NA                </td><td>Brazil            </td></tr>\n",
       "</tbody>\n",
       "</table>\n"
      ],
      "text/latex": [
       "\\begin{tabular}{r|lllllllll}\n",
       "  & Company & Specific\\_origin & REF & Review\\_date & Cocoa\\_percent & Company\\_location & Rating & Bean\\_type & Bean\\_origin\\\\\n",
       "\\hline\n",
       "\t1791 & Zotter             & Peru               & 647                & 2011               & 0.70               & Austria            & 3.75               & NA                 & Peru              \\\\\n",
       "\t1792 & Zotter             & Congo              & 749                & 2011               & 0.65               & Austria            & 3.00               & Forastero          & Congo             \\\\\n",
       "\t1793 & Zotter             & Kerala State       & 749                & 2011               & 0.65               & Austria            & 3.50               & Forastero          & India             \\\\\n",
       "\t1794 & Zotter             & Kerala State       & 781                & 2011               & 0.62               & Austria            & 3.25               & NA                 & India             \\\\\n",
       "\t1795 & Zotter             & Brazil, Mitzi Blue & 486                & 2010               & 0.65               & Austria            & 3.00               & NA                 & Brazil            \\\\\n",
       "\\end{tabular}\n"
      ],
      "text/markdown": [
       "\n",
       "| <!--/--> | Company | Specific_origin | REF | Review_date | Cocoa_percent | Company_location | Rating | Bean_type | Bean_origin |\n",
       "|---|---|---|---|---|---|---|---|---|---|\n",
       "| 1791 | Zotter             | Peru               | 647                | 2011               | 0.70               | Austria            | 3.75               | NA                 | Peru               |\n",
       "| 1792 | Zotter             | Congo              | 749                | 2011               | 0.65               | Austria            | 3.00               | Forastero          | Congo              |\n",
       "| 1793 | Zotter             | Kerala State       | 749                | 2011               | 0.65               | Austria            | 3.50               | Forastero          | India              |\n",
       "| 1794 | Zotter             | Kerala State       | 781                | 2011               | 0.62               | Austria            | 3.25               | NA                 | India              |\n",
       "| 1795 | Zotter             | Brazil, Mitzi Blue | 486                | 2010               | 0.65               | Austria            | 3.00               | NA                 | Brazil             |\n",
       "\n"
      ],
      "text/plain": [
       "     Company Specific_origin    REF Review_date Cocoa_percent Company_location\n",
       "1791 Zotter  Peru               647 2011        0.70          Austria         \n",
       "1792 Zotter  Congo              749 2011        0.65          Austria         \n",
       "1793 Zotter  Kerala State       749 2011        0.65          Austria         \n",
       "1794 Zotter  Kerala State       781 2011        0.62          Austria         \n",
       "1795 Zotter  Brazil, Mitzi Blue 486 2010        0.65          Austria         \n",
       "     Rating Bean_type Bean_origin\n",
       "1791 3.75   NA        Peru       \n",
       "1792 3.00   Forastero Congo      \n",
       "1793 3.50   Forastero India      \n",
       "1794 3.25   NA        India      \n",
       "1795 3.00   NA        Brazil     "
      ]
     },
     "metadata": {},
     "output_type": "display_data"
    }
   ],
   "source": [
    "names(data) <- c(\"Company\", \"Specific_origin\", \"REF\", \"Review_date\", \"Cocoa_percent\", \"Company_location\", \"Rating\", \"Bean_type\", \"Bean_origin\")\n",
    "data$Cocoa_percent <- as.numeric(sub(\"%\", \"\", data$Cocoa_percent)) / 100\n",
    "data[, c(8,9)] <- sapply(data[,c(8,9)], str_trim)\n",
    "is.na(data) <- data=='Â'\n",
    "head(data, n=5)\n",
    "tail(data, n=5)"
   ]
  },
  {
   "cell_type": "markdown",
   "id": "piano-terror",
   "metadata": {},
   "source": [
    "Najpierw zamieniam nazwy kolumn na czytelniejsze. Następnie wszytkie wartości dwóch ostatnich kolumn które wynoszą \"Â\" zostają zamienione na wartości nieznane. Kolumna Cocoa_percent od teraz zawiera wartości o typie numerycznym."
   ]
  },
  {
   "cell_type": "markdown",
   "id": "0f07f746",
   "metadata": {},
   "source": [
    "## 1.4) Liczba wystąpień krajów i rodzajów ziaren"
   ]
  },
  {
   "cell_type": "code",
   "execution_count": 6,
   "id": "65ad7442",
   "metadata": {},
   "outputs": [
    {
     "data": {
      "image/png": "[encoded data removed]",
      "text/plain": [
       "plot without title"
      ]
     },
     "metadata": {},
     "output_type": "display_data"
    }
   ],
   "source": [
    "df <- data.frame(sort(table(data$Company_location)))\n",
    "names(df) <- c('Kraj', 'Liczba_wystąpień')\n",
    "df$id = 1:nrow(df)\n",
    "g1 <- df %>% arrange(Liczba_wystąpień) %>% top_n(10,Liczba_wystąpień) %>% ggplot(aes(x=reorder(Kraj,-Liczba_wystąpień), y=Liczba_wystąpień, fill = id)) +\n",
    "        geom_bar(stat=\"identity\", alpha=.8, width=.9, ) +\n",
    "        ggtitle('Wystąpienia krajów') +\n",
    "        xlab(\"Kraj\") +\n",
    "        ylab(\"Liczba wystąpień\") +\n",
    "        theme_bw() +\n",
    "        theme(plot.title = element_text(size = 16, face = \"bold\", hjust = 0.5)) +\n",
    "        theme(legend.position = \"none\") +\n",
    "        scale_fill_gradient(low='steelblue2', high='steelblue4')\n",
    "df <- data.frame(sort(table(data$Bean_type, useNA='ifany'), decreasing=TRUE))\n",
    "names(df) <- c('Rodzaj_nasion', 'Liczba_wystąpień')\n",
    "df$id = 1:nrow(df)\n",
    "df[1,3] = 7\n",
    "g2 <- df %>% arrange(Liczba_wystąpień) %>% top_n(6,Liczba_wystąpień) %>% ggplot(aes(x=reorder(Rodzaj_nasion,-Liczba_wystąpień), y=Liczba_wystąpień, fill = id)) +\n",
    "        geom_bar(stat=\"identity\", alpha=.8, width=.9, ) +\n",
    "        ggtitle('Wystąpienia rodzajów ziaren') +\n",
    "        xlab(\"Rodzaj ziaren\") +\n",
    "        ylab(\"Liczba wystąpień\") +\n",
    "        theme_bw() +\n",
    "        theme(plot.title = element_text(size = 16, face = \"bold\", hjust = 0.5)) +\n",
    "        theme(legend.position = \"none\") +\n",
    "        scale_fill_gradient(low='olivedrab4', high='olivedrab2')\n",
    "\n",
    "grid.arrange(g1, g2, nrow = 2)"
   ]
  },
  {
   "cell_type": "markdown",
   "id": "e57e7273",
   "metadata": {},
   "source": [
    "Pierwszymi wykresami są wykresy słupkowe sprawdzające liczbę wystąpień poszczególnych krajów i rodzajów ziaren. Ze względu na ich dużą liczbę, przedstawione zostało tylko 10 najczęściej występujących krajów oraz 6 najpopularniejszych rodzajów ziaren. Z wykresów odczytać można, że znaczna część bazy danych składa się z tabliczek czekolady produkowanych przez firmy z USA (ponad 750). Następnym krajem jest Francja (tylko ok. 150), a liczba wystąpień kolejnych krajów powoli spada. Inną ważną obserwacją, jest fakt, że bardzo duża część czekolad składa się z nieznanego rodzaju ziaren."
   ]
  },
  {
   "cell_type": "markdown",
   "id": "excess-minneapolis",
   "metadata": {},
   "source": [
    "## 1.5) Szereg rozdzielczy zawartości kakao"
   ]
  },
  {
   "cell_type": "code",
   "execution_count": 7,
   "id": "df2e3734",
   "metadata": {},
   "outputs": [
    {
     "data": {
      "text/html": [
       "25.8909497196641"
      ],
      "text/latex": [
       "25.8909497196641"
      ],
      "text/markdown": [
       "25.8909497196641"
      ],
      "text/plain": [
       "[1] 25.89095"
      ]
     },
     "metadata": {},
     "output_type": "display_data"
    }
   ],
   "source": [
    "n <- nrow(data)\n",
    "1+3.322*log(n)"
   ]
  },
  {
   "cell_type": "markdown",
   "id": "e7461403",
   "metadata": {},
   "source": [
    "Liczbę przedziałów szeregu rozdzielczego postanowiłem wyznaczyć stosując powyższą heurystykę i otrzymany wynik zaokrągliłem do 26:"
   ]
  },
  {
   "cell_type": "code",
   "execution_count": 8,
   "id": "indonesian-breast",
   "metadata": {},
   "outputs": [
    {
     "data": {
      "text/plain": [
       "przedzialy\n",
       "(0.419,0.442] (0.442,0.465] (0.465,0.487] (0.487,0.509] (0.509,0.532] \n",
       "            1             1             0             1             1 \n",
       "(0.532,0.554] (0.554,0.576] (0.576,0.598] (0.598,0.621] (0.621,0.643] \n",
       "           16             3             8            66            46 \n",
       "(0.643,0.665] (0.665,0.688]  (0.688,0.71]  (0.71,0.732] (0.732,0.755] \n",
       "          101            74           713           233           274 \n",
       "(0.755,0.777] (0.777,0.799] (0.799,0.822] (0.822,0.844] (0.844,0.866] \n",
       "           56            18            94             8            37 \n",
       "(0.866,0.888] (0.888,0.911] (0.911,0.933] (0.933,0.955] (0.955,0.978] \n",
       "            9            13             0             0             0 \n",
       "    (0.978,1] \n",
       "           22 "
      ]
     },
     "metadata": {},
     "output_type": "display_data"
    }
   ],
   "source": [
    "przedzialy <- cut(data$Cocoa_percent, breaks=26)\n",
    "table(przedzialy)"
   ]
  },
  {
   "cell_type": "markdown",
   "id": "planned-reverse",
   "metadata": {},
   "source": [
    "## 1.6) Histogramy zawartości kakao i ocen"
   ]
  },
  {
   "cell_type": "code",
   "execution_count": 9,
   "id": "6bac553b",
   "metadata": {},
   "outputs": [
    {
     "data": {
      "image/png": "[encoded data removed]",
      "text/plain": [
       "plot without title"
      ]
     },
     "metadata": {},
     "output_type": "display_data"
    }
   ],
   "source": [
    "g1 <- ggplot(data, aes(x=Cocoa_percent)) + \n",
    "  geom_histogram( binwidth=0.6/26, fill=\"chocolate4\", color=\"snow2\", alpha=0.7) +\n",
    "    ggtitle(\"Histogram zawartości kakao\") +\n",
    "    xlab('zawartość kakao [%]') +\n",
    "    ylab('wystąpienia') +\n",
    "    theme_bw() +\n",
    "    theme(plot.title = element_text(size = 16, face = \"bold\", hjust=0.5))\n",
    "g2 <- ggplot(data, aes(x=Cocoa_percent)) + \n",
    "  geom_histogram( binwidth=0.05, fill=\"chocolate4\", color=\"snow2\", alpha=0.7) +\n",
    "    ggtitle(\"Histogram zawartości kakao\") +\n",
    "    xlab('zawartość kakao [%]') +\n",
    "    ylab('wystąpienia') +\n",
    "    theme_bw() +\n",
    "    theme(plot.title = element_text(size = 16, face = \"bold\", hjust=0.5))\n",
    "grid.arrange(g1, g2, nrow = 2)"
   ]
  },
  {
   "cell_type": "markdown",
   "id": "0bfba90b",
   "metadata": {},
   "source": [
    "Zarówno szereg rozdzielczy jak i pierwszy histogram zawierają 26 przedziałów. Widoczne są wówczas w niektórych miejscach dziwne obniżenia liczby wystąpień w stosunku do sąsiednich przedziałów. Jest to prawdopodobnie związane z tym, że firmy wolą produkować czekolady o okrągłych wartościach zawartości kakao (np. 65%, 70%, 75%). Przedziały drugiego histogramu zwiększają się co 5%, dzięki czemu obniżenia przestają być widoczne. Zobaczyć można na nim jeden wysoki słupek przy wartości 70% (sąsiednie słupki są znacznie niższe). Dostrzec można również wyróżniający się słupek przy 100%."
   ]
  },
  {
   "cell_type": "markdown",
   "id": "eb8486e8",
   "metadata": {},
   "source": [
    "Tak by wówczas wyglądał poprawiony szereg rozdzielczy:"
   ]
  },
  {
   "cell_type": "code",
   "execution_count": 10,
   "id": "2890f321",
   "metadata": {},
   "outputs": [
    {
     "name": "stdout",
     "output_type": "stream",
     "text": [
      "przedzialy\n",
      "(0.419,0.473] (0.473,0.525] (0.525,0.578] (0.578,0.631] (0.631,0.684] \n",
      "            2             1            20            86           209 \n",
      "(0.684,0.736] (0.736,0.789] (0.789,0.842] (0.842,0.895] (0.895,0.947] \n",
      "          948           345           103            48            11 \n",
      "    (0.947,1] \n",
      "           22 \n"
     ]
    }
   ],
   "source": [
    "n <- 0.6/0.05\n",
    "przedzialy <- cut(data$Cocoa_percent, breaks=n)\n",
    "print(table(przedzialy))"
   ]
  },
  {
   "cell_type": "code",
   "execution_count": 11,
   "id": "ddb9848b",
   "metadata": {},
   "outputs": [
    {
     "data": {
      "image/png": "[encoded data removed]",
      "text/plain": [
       "plot without title"
      ]
     },
     "metadata": {},
     "output_type": "display_data"
    }
   ],
   "source": [
    "g1 <- ggplot(data, aes(x=Rating)) + \n",
    "  geom_histogram( binwidth=4/26, fill=\"chocolate3\", color=\"snow2\", alpha=0.7) +\n",
    "    ggtitle(\"Histogram ocen\") +\n",
    "    xlab('ocena') +\n",
    "    ylab('wystąpienia') +\n",
    "    theme_bw() +\n",
    "    theme(plot.title = element_text(size = 16, face = \"bold\",hjust=0.5))\n",
    "g2 <- ggplot(data, aes(x=Rating)) + \n",
    "  geom_histogram( binwidth=0.25, fill=\"chocolate3\", color=\"snow2\", alpha=0.7) +\n",
    "    ggtitle(\"Histogram ocen\") +\n",
    "    xlab('ocena') +\n",
    "    ylab('wystąpienia') +\n",
    "    theme_bw() +\n",
    "    theme(plot.title = element_text(size = 16, face = \"bold\",hjust=0.5))\n",
    "grid.arrange(g1, g2, nrow = 2)"
   ]
  },
  {
   "cell_type": "markdown",
   "id": "6be3fcc7",
   "metadata": {},
   "source": [
    "Tutaj problemy są jeszcze bardziej widoczne. Dla pierwszego histogramu, który ma 26 przedziałów, pojawiają się widoczne dziury. Jest to związane z tym, że oceny recenzentów zwiększąją się co 0.25 i nie przyjmują żadnych innych wartości:"
   ]
  },
  {
   "cell_type": "code",
   "execution_count": 12,
   "id": "3dd5efa4",
   "metadata": {},
   "outputs": [
    {
     "data": {
      "text/plain": [
       "\n",
       "   1  1.5 1.75    2 2.25  2.5 2.75    3 3.25  3.5 3.75    4    5 \n",
       "   4   10    3   32   14  127  259  341  303  392  210   98    2 "
      ]
     },
     "metadata": {},
     "output_type": "display_data"
    }
   ],
   "source": [
    "table(data$Rating)"
   ]
  },
  {
   "cell_type": "markdown",
   "id": "93067325",
   "metadata": {},
   "source": [
    "Przedziały drugiego histogramu zwiększają się co 0.25, dzięki czemu dziury znikają. Z histogramu dowiedzieć się można, że bardzo duża część ocen zawiera się w przedziale 3-4. Natomiasy oceny powyżej 4 są niezwykle rzadkie."
   ]
  },
  {
   "cell_type": "markdown",
   "id": "residential-individual",
   "metadata": {},
   "source": [
    "## 1.7) Statystyki opisowe ocen"
   ]
  },
  {
   "cell_type": "code",
   "execution_count": 13,
   "id": "lined-cheese",
   "metadata": {},
   "outputs": [
    {
     "data": {
      "text/plain": [
       "   Min. 1st Qu.  Median    Mean 3rd Qu.    Max. \n",
       "  1.000   2.875   3.250   3.186   3.500   5.000 "
      ]
     },
     "metadata": {},
     "output_type": "display_data"
    },
    {
     "name": "stdout",
     "output_type": "stream",
     "text": [
      "\n",
      "Wariancja próby: 0.2285437\n",
      "Odch. st. próby: 0.4780624\n",
      "\n",
      "Współczynnik asymetrii: -0.5784473\n",
      "Współczynnik koncentracji: 4.127678"
     ]
    }
   ],
   "source": [
    "MomentCentralny <- function(dane, n){\n",
    "    x <- mean(dane)\n",
    "    return(sum((dane - x)^n)/length(dane))\n",
    "}\n",
    "\n",
    "dane <- data$Rating\n",
    "summary(dane)\n",
    "cat(\"\\nWariancja próby: \")\n",
    "cat(var(dane))\n",
    "cat(\"\\nOdch. st. próby: \")\n",
    "cat(sd(dane))\n",
    "cat(\"\\n\\nWspółczynnik asymetrii: \")\n",
    "cat(MomentCentralny(dane, 3)/sqrt(MomentCentralny(dane, 2))^3)\n",
    "cat(\"\\nWspółczynnik koncentracji: \")\n",
    "cat(MomentCentralny(dane, 4)/sqrt(MomentCentralny(dane, 2))^4)"
   ]
  },
  {
   "cell_type": "markdown",
   "id": "novel-brunswick",
   "metadata": {},
   "source": [
    "Z powyższych informacji odczytać można, że 50% obserwacji znajduje się pomiędzy 2.875 a 3.500. Zarówno średnia jak i mediana są nieco wyższe niż 3. Współczynnik asymetrii wskazuje na to, że jest to rozkład umiarkowanie lewostronnie skośny. Ze współczynnika koncentracji dowiedzieć się można, że rozkład jest bardziej wyostrzony od rozkładu normalnego (dla niego wpółczynnik ten wynosi 3)."
   ]
  },
  {
   "cell_type": "markdown",
   "id": "economic-discretion",
   "metadata": {},
   "source": [
    "## 1.8) Wykres zależności pomiędzy zawartością kakao a oceną czekolady"
   ]
  },
  {
   "cell_type": "code",
   "execution_count": 14,
   "id": "0ce3edf0",
   "metadata": {},
   "outputs": [
    {
     "data": {
      "image/png": "[encoded data removed]",
      "text/plain": [
       "plot without title"
      ]
     },
     "metadata": {},
     "output_type": "display_data"
    }
   ],
   "source": [
    "p <- ggplot(data, aes(x=Cocoa_percent, y=Rating)) +\n",
    "    geom_point(size=4, color=\"dodgerblue3\",alpha=0.4) +\n",
    "    ggtitle(\"Zawartość kakao a ocena czekolady\") +\n",
    "    xlab('zawartość kakao [%]') +\n",
    "    ylab('ocena') +\n",
    "    theme(legend.position=\"none\") +\n",
    "    theme_bw() +\n",
    "    theme(plot.title = element_text(size = 16, face = \"bold\", hjust = 0.5))\n",
    " ggMarginal(p, type=\"boxplot\")"
   ]
  },
  {
   "cell_type": "markdown",
   "id": "afe98784",
   "metadata": {},
   "source": [
    "Wykres przedstawia zależność między oceną a zawartością kakao (scatter plot) z wykresami pudełkowymi znajdującymi się na osiach. Na wykresach pudełkowych dostrzec można, że zawartość kakao zawiera wiele wartości odstających. Co ciekawe, jego pierwszy kwartyl wynosi tyle samo co mediana. Na wykresie punktowym można teoretycznie zauważyć pewną zależność (im większa zawartość kakao tym gorsza ocena), lecz zostanie to sprawdzone za pomocą korelacji i regresji później."
   ]
  },
  {
   "cell_type": "markdown",
   "id": "bronze-defense",
   "metadata": {},
   "source": [
    "## 1.9) Producenci i kraje z najlepszą/najgorszą średnią ocen"
   ]
  },
  {
   "cell_type": "code",
   "execution_count": 15,
   "id": "7df77692",
   "metadata": {},
   "outputs": [],
   "source": [
    "narysuj_wykres <- function(data, title, margins, colors, margin_size, hjust) {\n",
    "    g <- ggplot(data, aes(x=nazwa, y=srednia, fill = id)) +\n",
    "        geom_bar(stat=\"identity\", alpha=.7, width=.9, ) +\n",
    "        ggtitle(title) +\n",
    "        xlab(\"\") +\n",
    "        ylab(\"Ocena\") +\n",
    "        coord_flip(ylim = margins) +\n",
    "        geom_text(aes(label=round(srednia,3)), hjust= -0.5, size=4.5)+\n",
    "        theme_bw() +\n",
    "        theme(plot.title = element_text(size = 16, face = \"bold\", hjust = hjust)) +\n",
    "        theme(axis.title.y = element_text(margin=margin(0,0,0,margin_size))) +\n",
    "        theme(legend.position = \"none\") +\n",
    "        scale_fill_gradient(low=colors[1], high=colors[2])\n",
    "\n",
    "    return(g)\n",
    "}"
   ]
  },
  {
   "cell_type": "code",
   "execution_count": 16,
   "id": "1330d477",
   "metadata": {},
   "outputs": [
    {
     "data": {
      "image/png": "[encoded data removed]",
      "text/plain": [
       "plot without title"
      ]
     },
     "metadata": {},
     "output_type": "display_data"
    }
   ],
   "source": [
    "producenci <- names(table(data$Company))\n",
    "value <- 1:length(producenci)\n",
    "for(i in 1:length(producenci)){\n",
    "    subData <- subset(data, Company == producenci[i])\n",
    "    value[i] <- mean(subData$Rating)\n",
    "}\n",
    "result <- data.frame( producent = producenci, srednia = value)\n",
    "\n",
    "result <- result[order(result$srednia, decreasing = TRUE),]\n",
    "result$id = 1:nrow(result)\n",
    "dane1 <- result[1:10,] %>% mutate(nazwa = fct_reorder(producent, desc(id)))\n",
    "g1 <- narysuj_wykres(dane1, \"Producenci z najlepszą średnią ocen\", c(3.5, 4.5), c('palegreen2', 'palegreen4'), 0, -0.6)\n",
    "\n",
    "result <- result[order(result$srednia, decreasing = FALSE),]\n",
    "result$id = 1:nrow(result)\n",
    "dane2 <- result[1:10,] %>% mutate(nazwa = fct_reorder(producent, desc(id))) \n",
    "g2 <- narysuj_wykres(dane2, \"Producenci z najgorszą średnią ocen\", c(1, 3), c('tomato2', 'tomato4'), 48, -0.6)\n",
    "\n",
    "grid.arrange(g1, g2, nrow = 2)"
   ]
  },
  {
   "cell_type": "code",
   "execution_count": 17,
   "id": "variable-objective",
   "metadata": {},
   "outputs": [
    {
     "data": {
      "image/png": "[encoded data removed]",
      "text/plain": [
       "plot without title"
      ]
     },
     "metadata": {},
     "output_type": "display_data"
    }
   ],
   "source": [
    "kraje <- names(table(data$Company_location))\n",
    "value <- 1:length(kraje)\n",
    "for(i in 1:length(kraje)){\n",
    "    subData <- subset(data, Company_location == kraje[i])\n",
    "    value[i] <- mean(subData$Rating)\n",
    "}\n",
    "result <- data.frame( kraj = kraje, srednia = value)\n",
    "\n",
    "result <- result[order(result$srednia, decreasing = TRUE),]\n",
    "result$id = 1:nrow(result)\n",
    "dane1 <- result[1:10,] %>% mutate(nazwa = fct_reorder(kraj, desc(id))) \n",
    "g1 <- narysuj_wykres(dane1, \"Kraje z najlepszą średnią ocen\", c(3, 4), c('palegreen2', 'palegreen4'), 16, 0.5)\n",
    "\n",
    "result <- result[order(result$srednia, decreasing = FALSE),]\n",
    "result$id = 1:nrow(result)\n",
    "dane2 <- result[1:10,] %>% mutate(nazwa = fct_reorder(kraj, desc(id))) \n",
    "g2 <- narysuj_wykres(dane2, \"Kraje z najgorszą średnią ocen\", c(2.5, 3), c('tomato2', 'tomato4'), 0, 0.5)\n",
    "\n",
    "grid.arrange(g1, g2, nrow = 2)"
   ]
  },
  {
   "cell_type": "markdown",
   "id": "round-london",
   "metadata": {},
   "source": [
    "W przypadku powyższych 4 wykresów pierwszą rzeczą, którą zauważyłem, jest to że istnieje producent który ma średnią ocen równą 1. Jest tak jednak dlatego, ponieważ w bazie istnieje tylko jedna czekolada tego producenta:"
   ]
  },
  {
   "cell_type": "code",
   "execution_count": 18,
   "id": "7a3d8286",
   "metadata": {},
   "outputs": [
    {
     "data": {
      "text/html": [
       "<table>\n",
       "<thead><tr><th></th><th scope=col>Company</th><th scope=col>Specific_origin</th><th scope=col>REF</th><th scope=col>Review_date</th><th scope=col>Cocoa_percent</th><th scope=col>Company_location</th><th scope=col>Rating</th><th scope=col>Bean_type</th><th scope=col>Bean_origin</th></tr></thead>\n",
       "<tbody>\n",
       "\t<tr><th scope=row>466</th><td>Cote d' Or (Kraft)</td><td>Sensations Intense</td><td>48                </td><td>2006              </td><td>0.7               </td><td>Belgium           </td><td>1                 </td><td>NA                </td><td>NA                </td></tr>\n",
       "</tbody>\n",
       "</table>\n"
      ],
      "text/latex": [
       "\\begin{tabular}{r|lllllllll}\n",
       "  & Company & Specific\\_origin & REF & Review\\_date & Cocoa\\_percent & Company\\_location & Rating & Bean\\_type & Bean\\_origin\\\\\n",
       "\\hline\n",
       "\t466 & Cote d' Or (Kraft) & Sensations Intense & 48                 & 2006               & 0.7                & Belgium            & 1                  & NA                 & NA                \\\\\n",
       "\\end{tabular}\n"
      ],
      "text/markdown": [
       "\n",
       "| <!--/--> | Company | Specific_origin | REF | Review_date | Cocoa_percent | Company_location | Rating | Bean_type | Bean_origin |\n",
       "|---|---|---|---|---|---|---|---|---|---|\n",
       "| 466 | Cote d' Or (Kraft) | Sensations Intense | 48                 | 2006               | 0.7                | Belgium            | 1                  | NA                 | NA                 |\n",
       "\n"
      ],
      "text/plain": [
       "    Company            Specific_origin    REF Review_date Cocoa_percent\n",
       "466 Cote d' Or (Kraft) Sensations Intense 48  2006        0.7          \n",
       "    Company_location Rating Bean_type Bean_origin\n",
       "466 Belgium          1      NA        NA         "
      ]
     },
     "metadata": {},
     "output_type": "display_data"
    }
   ],
   "source": [
    "subset(data, Company == \"Cote d' Or (Kraft)\")"
   ]
  },
  {
   "cell_type": "markdown",
   "id": "3fe1401c",
   "metadata": {},
   "source": [
    "Podobnie jest w przypadku najgorszego kraju:"
   ]
  },
  {
   "cell_type": "code",
   "execution_count": 19,
   "id": "79581e63",
   "metadata": {},
   "outputs": [
    {
     "data": {
      "text/html": [
       "<table>\n",
       "<thead><tr><th></th><th scope=col>Company</th><th scope=col>Specific_origin</th><th scope=col>REF</th><th scope=col>Review_date</th><th scope=col>Cocoa_percent</th><th scope=col>Company_location</th><th scope=col>Rating</th><th scope=col>Bean_type</th><th scope=col>Bean_origin</th></tr></thead>\n",
       "<tbody>\n",
       "\t<tr><th scope=row>867</th><td>Indah        </td><td>India (south)</td><td>1788         </td><td>2016         </td><td>0.61         </td><td>India        </td><td>2.5          </td><td>NA           </td><td>India        </td></tr>\n",
       "</tbody>\n",
       "</table>\n"
      ],
      "text/latex": [
       "\\begin{tabular}{r|lllllllll}\n",
       "  & Company & Specific\\_origin & REF & Review\\_date & Cocoa\\_percent & Company\\_location & Rating & Bean\\_type & Bean\\_origin\\\\\n",
       "\\hline\n",
       "\t867 & Indah         & India (south) & 1788          & 2016          & 0.61          & India         & 2.5           & NA            & India        \\\\\n",
       "\\end{tabular}\n"
      ],
      "text/markdown": [
       "\n",
       "| <!--/--> | Company | Specific_origin | REF | Review_date | Cocoa_percent | Company_location | Rating | Bean_type | Bean_origin |\n",
       "|---|---|---|---|---|---|---|---|---|---|\n",
       "| 867 | Indah         | India (south) | 1788          | 2016          | 0.61          | India         | 2.5           | NA            | India         |\n",
       "\n"
      ],
      "text/plain": [
       "    Company Specific_origin REF  Review_date Cocoa_percent Company_location\n",
       "867 Indah   India (south)   1788 2016        0.61          India           \n",
       "    Rating Bean_type Bean_origin\n",
       "867 2.5    NA        India      "
      ]
     },
     "metadata": {},
     "output_type": "display_data"
    }
   ],
   "source": [
    "subset(data, Company_location == \"India\")"
   ]
  },
  {
   "cell_type": "markdown",
   "id": "4afde5a5",
   "metadata": {},
   "source": [
    "W wielu innych przypadkach również okaże się, że istnieje tylko jedna obserwacja dla danego producenta/kraju, więc dokładność średnich w powyższych wykresach jest dość niska i ma tylko zastosowanie poglądowe."
   ]
  },
  {
   "cell_type": "markdown",
   "id": "9e3e8b63",
   "metadata": {},
   "source": [
    "## 1.10) Średnia ocen i zawartość kakao na przestrzeni lat"
   ]
  },
  {
   "cell_type": "code",
   "execution_count": 20,
   "id": "guided-puzzle",
   "metadata": {},
   "outputs": [
    {
     "data": {
      "image/png": "[encoded data removed]",
      "text/plain": [
       "plot without title"
      ]
     },
     "metadata": {},
     "output_type": "display_data"
    }
   ],
   "source": [
    "years <- sort(unique(data$Review_date))\n",
    "value1 <- 1:length(years)\n",
    "value2 <- 1:length(years)\n",
    "for(i in 1:length(years)){\n",
    "    subData <- subset(data, Review_date == years[i])\n",
    "    value1[i] <- mean(subData$Rating)\n",
    "    value2[i] <- mean(subData$Cocoa_percent)\n",
    "}\n",
    "\n",
    "value1 <- round(value1,2)\n",
    "\n",
    "result <- data.frame( rok = years, srednia = value1 )\n",
    "g1 <- ggplot(result,aes(x=rok, y=srednia)) +\n",
    "    geom_line( color=\"steelblue3\", size = 1.6) + \n",
    "    geom_point(size=3.5) +\n",
    "    ggtitle(\"Średnia ocen na przestrzeni lat\") +\n",
    "    xlab(\"rok\") +\n",
    "    ylab(\"ocena\") +\n",
    "    scale_x_continuous(breaks=years) +\n",
    "    theme_bw() +\n",
    "    theme(axis.text.x=element_text(angle=60, hjust=1)) +\n",
    "    theme(plot.title = element_text(size = 16, face = \"bold\", hjust = 0.5)) +\n",
    "    theme(axis.title.y = element_text(margin=margin(0,0,0,13))) \n",
    "\n",
    "result <- data.frame( rok = years, srednia = value2 )\n",
    "g2 <- ggplot(result,aes(x=rok, y=srednia)) +\n",
    "    geom_line( color=\"tan3\", size = 1.6) + \n",
    "    geom_point(size=3.5) +\n",
    "    ggtitle(\"Średnia zawartości kakao na przestrzeni lat\") +\n",
    "    xlab(\"rok\") +\n",
    "    ylab(\"zawartość kakao [%]\") +\n",
    "    scale_x_continuous(breaks=years) +\n",
    "    theme_bw() +\n",
    "    theme(axis.text.x=element_text(angle=60, hjust=1)) +\n",
    "    theme(plot.title = element_text(size = 16, face = \"bold\", hjust = 0.5))\n",
    "\n",
    "grid.arrange(g1, g2, nrow = 2)"
   ]
  },
  {
   "cell_type": "markdown",
   "id": "dying-doubt",
   "metadata": {},
   "source": [
    "Na powyższych wykresach dostrzec można, że średnia ocena w roku 2017 była wyższa niż w roku 2006. Pomiędzy tymi latami nie było jednak monotonicznego wzrostu. Na podstawie samego wykresu ciężko stwierdzić czy istnieje jakakolwiek zależność. W przypadku drugiego wykresu zauważyć można pewne zmiany w średniej zawartości kakao, lecz po sprawdzeniu skali osi Y okazuje się, że zmiany te są bardzo małe."
   ]
  },
  {
   "cell_type": "markdown",
   "id": "about-probe",
   "metadata": {},
   "source": [
    "# 2) Korelacja i regresja"
   ]
  },
  {
   "cell_type": "markdown",
   "id": "0aebc7e7",
   "metadata": {},
   "source": [
    "Po narysowaniu wykresu punktowego w poprzednim rozdziale, postanowiłem wrócić do zależności między oceną a zawartością kakao.\n",
    "Sprawdźmy ile wynosi współczynnik korelacji Pearsona:"
   ]
  },
  {
   "cell_type": "code",
   "execution_count": 21,
   "id": "superb-paragraph",
   "metadata": {},
   "outputs": [
    {
     "data": {
      "text/html": [
       "-0.164820177624244"
      ],
      "text/latex": [
       "-0.164820177624244"
      ],
      "text/markdown": [
       "-0.164820177624244"
      ],
      "text/plain": [
       "[1] -0.1648202"
      ]
     },
     "metadata": {},
     "output_type": "display_data"
    }
   ],
   "source": [
    "r <- cor(data$Rating, data$Cocoa_percent)\n",
    "r"
   ]
  },
  {
   "cell_type": "markdown",
   "id": "b13eddb7",
   "metadata": {},
   "source": [
    "Wartość ta jest bardzo mała - możemy mówić zatem o bardzo słabej korelacji lub jej braku.\n",
    "Sprawdźmy również za pomocą testu T czy korelacja ta jest różna od 0 dla alpha = 5%:"
   ]
  },
  {
   "cell_type": "code",
   "execution_count": 22,
   "id": "40dd357b",
   "metadata": {},
   "outputs": [
    {
     "name": "stdout",
     "output_type": "stream",
     "text": [
      "Wartość statystyki: -7.07589\n",
      "\n",
      "Poziom istotności: 0.05\n",
      "P-wartość: 2.1216e-12"
     ]
    }
   ],
   "source": [
    "# H0 współczynnik korelacji wynosi 0\n",
    "# H1 współczynnik korelacji jest różny od 0\n",
    "\n",
    "alpha <- 0.05\n",
    "n <- nrow(data)\n",
    "t <- r / sqrt(1 - r^2) * sqrt(n-2)\n",
    "\n",
    "cat(\"Wartość statystyki: \")\n",
    "cat(t)\n",
    "\n",
    "cat(\"\\n\\nPoziom istotności: \")\n",
    "cat(alpha)\n",
    "cat(\"\\nP-wartość: \")\n",
    "cat(2*pt(-abs(t), n-2))"
   ]
  },
  {
   "cell_type": "markdown",
   "id": "9519da0c",
   "metadata": {},
   "source": [
    "P-wartość jest dużo mniejsza od poziomu istotności, więc należy odrzucić hipotezę zerową i przyjąć hipotezę alternatywną mówiącą, że współczynnik korelacji jest różny od 0. Mimo małej wartości współczynnika korelacji sprawdźmy jak by wyglądał model regresji liniowej:"
   ]
  },
  {
   "cell_type": "code",
   "execution_count": 23,
   "id": "inclusive-finance",
   "metadata": {},
   "outputs": [],
   "source": [
    "model <- lm(Rating ~ Cocoa_percent, data)"
   ]
  },
  {
   "cell_type": "code",
   "execution_count": 24,
   "id": "spectacular-programmer",
   "metadata": {},
   "outputs": [
    {
     "data": {
      "image/png": "[encoded data removed]",
      "text/plain": [
       "plot without title"
      ]
     },
     "metadata": {},
     "output_type": "display_data"
    }
   ],
   "source": [
    "par(mar=c(6,6,6,6))\n",
    "ggplot(data, aes(x=Cocoa_percent, y=Rating)) +\n",
    "    geom_point(size=4, color=\"black\",alpha=0.2) +\n",
    "    ggtitle(\"Zawartość kakao a ocena czekolady\") +\n",
    "    geom_abline(mapping=aes(slope=model$coefficients[2], intercept=model$coefficients[1]), size=2, color='Red') +\n",
    "    xlab('zawartość kakao [%]') +\n",
    "    ylab('ocena') +\n",
    "    theme(legend.position=\"none\") +\n",
    "    theme_bw() +\n",
    "    theme(plot.title = element_text(size = 16, face = \"bold\", hjust = 0.5))"
   ]
  },
  {
   "cell_type": "code",
   "execution_count": 25,
   "id": "52d4a852",
   "metadata": {},
   "outputs": [
    {
     "data": {
      "text/plain": [
       "\n",
       "Call:\n",
       "lm(formula = Rating ~ Cocoa_percent, data = data)\n",
       "\n",
       "Residuals:\n",
       "    Min      1Q  Median      3Q     Max \n",
       "-2.2071 -0.3196  0.0429  0.3178  1.7929 \n",
       "\n",
       "Coefficients:\n",
       "              Estimate Std. Error t value Pr(>|t|)    \n",
       "(Intercept)     4.0794     0.1268  32.183  < 2e-16 ***\n",
       "Cocoa_percent  -1.2461     0.1761  -7.076 2.12e-12 ***\n",
       "---\n",
       "Signif. codes:  0 '***' 0.001 '**' 0.01 '*' 0.05 '.' 0.1 ' ' 1\n",
       "\n",
       "Residual standard error: 0.4717 on 1793 degrees of freedom\n",
       "Multiple R-squared:  0.02717,\tAdjusted R-squared:  0.02662 \n",
       "F-statistic: 50.07 on 1 and 1793 DF,  p-value: 2.122e-12\n"
      ]
     },
     "metadata": {},
     "output_type": "display_data"
    }
   ],
   "source": [
    "summary(model)"
   ]
  },
  {
   "cell_type": "markdown",
   "id": "a348cfb2",
   "metadata": {},
   "source": [
    "P-wartość testu F dla standardowego alpha = 5% wskazuje na istotność współczynnika kierunkowego regresji liniowej. Z drugiej strony współczynnik determinacji jest bardzo niski (co było wiadome wcześniej po obliczeniu współczynnika korelacji). Rozsądne byłoby zatem odrzucenie powyższego modelu. Jednak zanim to nastąpi sprawdźmy jeszcze czy rozkład reszt jest zbliżony do rozkładu normalnego: "
   ]
  },
  {
   "cell_type": "code",
   "execution_count": 26,
   "id": "essential-degree",
   "metadata": {},
   "outputs": [
    {
     "data": {
      "image/png": "[encoded data removed]",
      "text/plain": [
       "Plot with title \"Normal Q-Q Plot\""
      ]
     },
     "metadata": {},
     "output_type": "display_data"
    }
   ],
   "source": [
    "qqnorm(model$residuals)\n",
    "qqline(model$residuals)"
   ]
  },
  {
   "cell_type": "markdown",
   "id": "4a475c48",
   "metadata": {},
   "source": [
    "Na powyższym wykresie widać że im większe/mniejsze wartości od zera tym rozkład coraz bardziej różni się od rozkładu normalnego. Rozkład reszt zatem nie jest rozkładem normalnym. W związku z tym nie jest spełnione jedno z założeń regresji liniowej, więc należy odrzucić powyższy model."
   ]
  },
  {
   "cell_type": "markdown",
   "id": "3326b899",
   "metadata": {},
   "source": [
    "# 3) Testy statystyczne"
   ]
  },
  {
   "cell_type": "markdown",
   "id": "afda6f44",
   "metadata": {},
   "source": [
    "## 3.1) Test Z dla jednej populacji"
   ]
  },
  {
   "cell_type": "markdown",
   "id": "07c4a937",
   "metadata": {},
   "source": [
    "W związku ze skalą ocen wynoszącą od 1 do 5 postanowiłem sprawdzić czy średnia będzie wynosić 3. W bazie znajduje się 1795 obserwacji, w związku z czym zastosowałem przybliżenie i wykorzystałem dwustronny test Z:"
   ]
  },
  {
   "cell_type": "code",
   "execution_count": 27,
   "id": "c440328b",
   "metadata": {},
   "outputs": [
    {
     "name": "stdout",
     "output_type": "stream",
     "text": [
      "\n",
      "Odch. st. średniej: 0.01128372\n",
      "\n",
      "Wartość statystyki: 16.478\n",
      "\n",
      "Poziom istotności: 0.05\n",
      "P-wartość: 5.2804e-61"
     ]
    }
   ],
   "source": [
    "# H0: średnia ocen wynosi 3\n",
    "# H1: średnia ocen jest różna od 3\n",
    "\n",
    "alpha <- 0.05\n",
    "n <- nrow(data)\n",
    "s <- sd(data$Rating)\n",
    "x <- mean(data$Rating)\n",
    "mi <- 3\n",
    "\n",
    "cat(\"\\nOdch. st. średniej: \")\n",
    "cat(s/sqrt(n))\n",
    "z <- (x - mi) / s*sqrt(n)\n",
    "\n",
    "cat(\"\\n\\nWartość statystyki: \")\n",
    "cat(z)\n",
    "\n",
    "cat(\"\\n\\nPoziom istotności: \")\n",
    "cat(alpha)\n",
    "cat(\"\\nP-wartość: \")\n",
    "cat(2*pnorm(-abs(z)))"
   ]
  },
  {
   "cell_type": "markdown",
   "id": "85c873ec",
   "metadata": {},
   "source": [
    "P-wartość jest mniejsza od poziomu istotności, więc należy odrzucić hipotezą zerową i przyjąć hipotezę alternatywną - średnia ocen jest różna od 3."
   ]
  },
  {
   "cell_type": "markdown",
   "id": "050264b6",
   "metadata": {},
   "source": [
    "## 3.2) Testy Z dla dwóch populacji"
   ]
  },
  {
   "cell_type": "markdown",
   "id": "b4a849b3",
   "metadata": {},
   "source": [
    "Następnie postanowiłem wybrać dwa najczęściej występujące rodzaje ziaren w bazie i sprawdzić czy średnia zawartość kakao w składających się z nich czekoladach będzie taka sama. Ze względu na dużą próbę postanowiłem wykorzystać do tego celu dwustronny test Z dla dwóch populacji:"
   ]
  },
  {
   "cell_type": "code",
   "execution_count": 28,
   "id": "e5652129",
   "metadata": {},
   "outputs": [
    {
     "name": "stdout",
     "output_type": "stream",
     "text": [
      "Trinitario: \n",
      "Liczność: 419\n",
      "Średnia ocena: 3.245823\n",
      "\n",
      "Criollo: \n",
      "Liczność: 153\n",
      "Średnia ocena: 3.240196"
     ]
    }
   ],
   "source": [
    "tri <- subset(data, Bean_type == 'Trinitario')\n",
    "cat(\"Trinitario: \")\n",
    "cat(\"\\nLiczność: \")\n",
    "cat(nrow(tri))\n",
    "cat(\"\\nŚrednia ocena: \")\n",
    "cat(mean(tri$Rating))\n",
    "cri <- subset(data, Bean_type == 'Criollo')\n",
    "cat(\"\\n\\nCriollo: \")\n",
    "cat(\"\\nLiczność: \")\n",
    "cat(nrow(cri))\n",
    "cat(\"\\nŚrednia ocena: \")\n",
    "cat(mean(cri$Rating))"
   ]
  },
  {
   "cell_type": "code",
   "execution_count": 29,
   "id": "8711692e",
   "metadata": {},
   "outputs": [
    {
     "name": "stdout",
     "output_type": "stream",
     "text": [
      "Wartość statystyki: -0.5095386\n",
      "Poziom istotności: 0.05\n",
      "P-wartość: 0.6103747"
     ]
    }
   ],
   "source": [
    "# H0 średnia zawartość kakao czekolad z ziaren Trinitario = średnia zawartość kakao czekolad z ziaren Criollo\n",
    "# H1 średnia zawartość kakao czekolad z ziaren Trinitario != średnia zawartość kakao czekolad z ziaren Criollo\n",
    "\n",
    "n1 <- nrow(tri)\n",
    "n2 <- nrow(cri)\n",
    "var1 <- var(tri$Cocoa_percent)\n",
    "var2 <- var(cri$Cocoa_percent)\n",
    "\n",
    "alpha <- 0.05\n",
    "x1 <- mean(tri$Cocoa_percent)\n",
    "x2 <- mean(cri$Cocoa_percent)\n",
    "z <- (x1 - x2) / sqrt(var1/n1 + var2/n2)\n",
    "\n",
    "cat(\"Wartość statystyki: \")\n",
    "cat(z)\n",
    "\n",
    "cat(\"\\nPoziom istotności: \")\n",
    "cat(alpha)\n",
    "cat(\"\\nP-wartość: \")\n",
    "cat(2*pnorm(-abs(z)))"
   ]
  },
  {
   "cell_type": "markdown",
   "id": "40536b05",
   "metadata": {},
   "source": [
    "P-wartość jest większa niż przyjęty poziom istotności, więc nie można odrzucić hipotezy zerowej. Test nie jest statystycznie istotny. Nie można zatem stwierdzić czy średnie zawartości kakao różnią się."
   ]
  },
  {
   "cell_type": "markdown",
   "id": "3fc1274c",
   "metadata": {},
   "source": [
    "W podobny sposób postanowiłem porównać średnią zawartość kakao pomiędzy Francją i Kanadą:"
   ]
  },
  {
   "cell_type": "code",
   "execution_count": 30,
   "id": "collaborative-fishing",
   "metadata": {},
   "outputs": [
    {
     "name": "stdout",
     "output_type": "stream",
     "text": [
      "Francja: \n",
      "Liczność: 156\n",
      "Średnia ocena: 3.251603\n",
      "\n",
      "Kanada: \n",
      "Liczność: 125\n",
      "Średnia ocena: 3.324"
     ]
    }
   ],
   "source": [
    "fra <- subset(data, Company_location == 'France')\n",
    "cat(\"Francja: \")\n",
    "cat(\"\\nLiczność: \")\n",
    "cat(nrow(fra))\n",
    "cat(\"\\nŚrednia ocena: \")\n",
    "cat(mean(fra$Rating))\n",
    "can <- subset(data, Company_location == 'Canada')\n",
    "cat(\"\\n\\nKanada: \")\n",
    "cat(\"\\nLiczność: \")\n",
    "cat(nrow(can))\n",
    "cat(\"\\nŚrednia ocena: \")\n",
    "cat(mean(can$Rating))"
   ]
  },
  {
   "cell_type": "code",
   "execution_count": 31,
   "id": "130ee5f7",
   "metadata": {},
   "outputs": [
    {
     "name": "stdout",
     "output_type": "stream",
     "text": [
      "Wartość statystyki: -0.7763951\n",
      "Poziom istotności: 0.05\n",
      "P-wartość: 0.4375157"
     ]
    }
   ],
   "source": [
    "# H0 średnia zawartość kakao czekolad z Francji = średnia zawartość kakao czekolad z Kanady\n",
    "# H1 średnia zawartość kakao czekolad z Francji != średnia zawartość kakao czekolad z Kanady\n",
    "\n",
    "n1 <- nrow(fra)\n",
    "n2 <- nrow(can)\n",
    "var1 <- var(fra$Cocoa_percent)\n",
    "var2 <- var(can$Cocoa_percent)\n",
    "\n",
    "alpha <- 0.05\n",
    "x1 <- mean(fra$Cocoa_percent)\n",
    "x2 <- mean(can$Cocoa_percent)\n",
    "z <- (x1 - x2) / sqrt(var1/n1 + var2/n2)\n",
    "\n",
    "cat(\"Wartość statystyki: \")\n",
    "cat(z)\n",
    "\n",
    "cat(\"\\nPoziom istotności: \")\n",
    "cat(alpha)\n",
    "cat(\"\\nP-wartość: \")\n",
    "cat(2*pnorm(-abs(z)))"
   ]
  },
  {
   "cell_type": "markdown",
   "id": "b75215c1",
   "metadata": {},
   "source": [
    "P-wartość jest większa niż przyjęty poziom istotności, więc nie można odrzucić hipotezy zerowej. Test nie jest statystycznie istotny. Nie można zatem stwierdzić czy średnie zawartości kakao pomiędzy tymi krajami różnią się."
   ]
  },
  {
   "cell_type": "markdown",
   "id": "647d60a5",
   "metadata": {},
   "source": [
    "# 4) Wnioski"
   ]
  },
  {
   "cell_type": "markdown",
   "id": "97121e1f",
   "metadata": {},
   "source": [
    "- stosowanie heurystyk do wyznaczenia liczby przedziałów szeregu rozdzielczego nie zawsze jest dobrym pomysłem\n",
    "- mimo że w bazie znajduje się aż 1795 obserwacji, to ciężko na ich podstawie oszacować średnią ocenę lub zawartość kakao dla poszczególnych firm czy krajów, gdyż często składają się one z tylko jednej obserwacji\n",
    "- nie udało się jednoznacznie stwierdzić, że istnieje związek liniowy między oceną a zawartością kakao\n",
    "- w związku z powyższym dobrym następnym krokiem mogłoby być sprawdzenie czy istnieje związek między rodzajem/pochodzeniem ziaren a oceną czekolady"
   ]
  }
 ],
 "metadata": {
  "kernelspec": {
   "display_name": "R",
   "language": "R",
   "name": "ir"
  },
  "language_info": {
   "codemirror_mode": "r",
   "file_extension": ".r",
   "mimetype": "text/x-r-source",
   "name": "R",
   "pygments_lexer": "r",
   "version": "3.6.1"
  }
 },
 "nbformat": 4,
 "nbformat_minor": 5
}
